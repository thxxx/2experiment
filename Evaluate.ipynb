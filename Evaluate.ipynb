{
 "cells": [
  {
   "cell_type": "code",
   "execution_count": null,
   "id": "0aec4607-4421-41cb-a7a5-050000de6fb2",
   "metadata": {},
   "outputs": [],
   "source": [
    "from huggingface_hub import hf_hub_download\n",
    "hf_hub_download(repo_id=\"youngdicey/audiogen-medium-pretraining-gdc\", filename=\"best.pth\", local_dir=\"weight\")"
   ]
  },
  {
   "cell_type": "code",
   "execution_count": null,
   "id": "afc696ed-e525-4377-a83d-a0d7d48cc204",
   "metadata": {},
   "outputs": [],
   "source": [
    "import os\n",
    "from audiotools import AudioSignal\n",
    "\n",
    "files = os.listdir('../dataset/')\n",
    "\n",
    "rows = [['audio_path', 'caption', 'duration']]\n",
    "for fp in files:\n",
    "    aa = AudioSignal('../dataset/'+fp).duration\n",
    "    rows.append([f\"/workspace/sound_test/dataset/{fp}\", fp[:-4], aa])"
   ]
  },
  {
   "cell_type": "code",
   "execution_count": null,
   "id": "09e10167-397b-40f9-9dd4-ef53a8e4e60e",
   "metadata": {},
   "outputs": [],
   "source": [
    "import pandas as pd\n",
    "\n",
    "aa = pd.read_csv(\"../csv_files/eval_mixed_captions.csv\")"
   ]
  },
  {
   "cell_type": "code",
   "execution_count": null,
   "id": "8d775688-f039-4faf-baa1-40dba52a8dde",
   "metadata": {},
   "outputs": [],
   "source": [
    "import soundfile as sf\n",
    "from tqdm import tqdm\n",
    "\n",
    "rows = [[\n",
    "    'audio_path',\n",
    "    'caption',\n",
    "    'duration'\n",
    "]]\n",
    "\n",
    "for i in tqdm(range(len(aa))):\n",
    "    data = aa.iloc[i]\n",
    "    audio_path = data['audio_path']\n",
    "    caption = data['caption']\n",
    "    # duration = data['duration']\n",
    "    \n",
    "    info = sf.info(audio_path)\n",
    "    duration = info.frames / info.samplerate\n",
    "\n",
    "    rows.append([\n",
    "        audio_path, caption, duration\n",
    "    ])\n",
    "\n",
    "import csv\n",
    "\n",
    "with open('eval_mixed_captions.csv', 'w', newline='') as file:\n",
    "    writer = csv.writer(file)\n",
    "    writer.writerows(rows)"
   ]
  },
  {
   "cell_type": "code",
   "execution_count": null,
   "id": "a868b405-e575-4a70-8ba9-0a8a4f21557d",
   "metadata": {},
   "outputs": [],
   "source": [
    "# Evaluate\n",
    "import os\n",
    "from audiotools import AudioSignal\n",
    "\n",
    "folder_path = \"./generated_audios_finetune_mix/epoch/\"\n",
    "files = os.listdir(folder_path)\n",
    "\n",
    "for fp in files:\n",
    "    print(fp)\n",
    "    AudioSignal(folder_path+fp).widget()"
   ]
  },
  {
   "cell_type": "code",
   "execution_count": null,
   "id": "58a61ecb-fbec-45af-887e-7ffdf11cdcdf",
   "metadata": {},
   "outputs": [],
   "source": [
    "# Evaluate\n",
    "import os\n",
    "from audiotools import AudioSignal\n",
    "\n",
    "folder_path = \"./generated_audios_finetune_mix3/epoch/\"\n",
    "files = os.listdir(folder_path)\n",
    "\n",
    "for fp in files:\n",
    "    print(fp)\n",
    "    AudioSignal(folder_path+fp).widget()"
   ]
  },
  {
   "cell_type": "code",
   "execution_count": null,
   "id": "cce00a86-45b4-4475-86f1-632e56948084",
   "metadata": {},
   "outputs": [],
   "source": []
  }
 ],
 "metadata": {
  "kernelspec": {
   "display_name": "Python 3 (ipykernel)",
   "language": "python",
   "name": "python3"
  },
  "language_info": {
   "codemirror_mode": {
    "name": "ipython",
    "version": 3
   },
   "file_extension": ".py",
   "mimetype": "text/x-python",
   "name": "python",
   "nbconvert_exporter": "python",
   "pygments_lexer": "ipython3",
   "version": "3.10.12"
  }
 },
 "nbformat": 4,
 "nbformat_minor": 5
}
