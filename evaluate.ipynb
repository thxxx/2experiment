{
 "cells": [
  {
   "cell_type": "code",
   "execution_count": null,
   "id": "356fe502-ba11-463b-a6eb-8504067b1363",
   "metadata": {},
   "outputs": [],
   "source": [
    "# compare 1\n",
    "import os\n",
    "from audiotools import AudioSignal\n",
    "\n",
    "folder_path = \"./test_aug_54/\"\n",
    "folders = os.listdir(folder_path)\n",
    "\n",
    "for folder in folders[:10]:\n",
    "    print(folder)\n",
    "    files = os.listdir(folder_path+folder)\n",
    "    for file in files:\n",
    "        AudioSignal(folder_path+folder+\"/\"+file).widget()"
   ]
  },
  {
   "cell_type": "code",
   "execution_count": null,
   "id": "75f6ef15-b2a0-4d9d-a978-4e6f56f3a0ba",
   "metadata": {},
   "outputs": [],
   "source": []
  }
 ],
 "metadata": {
  "kernelspec": {
   "display_name": "Python 3 (ipykernel)",
   "language": "python",
   "name": "python3"
  },
  "language_info": {
   "codemirror_mode": {
    "name": "ipython",
    "version": 3
   },
   "file_extension": ".py",
   "mimetype": "text/x-python",
   "name": "python",
   "nbconvert_exporter": "python",
   "pygments_lexer": "ipython3",
   "version": "3.10.12"
  }
 },
 "nbformat": 4,
 "nbformat_minor": 5
}
