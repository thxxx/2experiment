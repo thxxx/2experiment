{
 "cells": [
  {
   "cell_type": "code",
   "execution_count": null,
   "id": "b66c5312-e5dd-46db-b35c-680a9aa4c65d",
   "metadata": {},
   "outputs": [],
   "source": [
    "# CLAP Score compare\n",
    "import numpy as np\n",
    "import librosa\n",
    "import torch\n",
    "import CLAP.src.laion_clap as laion_clap\n",
    "\n",
    "# quantization\n",
    "def int16_to_float32(x):\n",
    "    return (x / 32767.0).astype(np.float32)\n",
    "\n",
    "\n",
    "def float32_to_int16(x):\n",
    "    x = np.clip(x, a_min=-1., a_max=1.)\n",
    "    return (x * 32767.).astype(np.int16)\n",
    "\n",
    "model = laion_clap.CLAP_Module(enable_fusion=False)"
   ]
  },
  {
   "cell_type": "code",
   "execution_count": null,
   "id": "a7cf262a-56ab-4d43-aac0-2dff9ea5c6b0",
   "metadata": {},
   "outputs": [],
   "source": [
    "model.load_ckpt(model_id=1)"
   ]
  },
  {
   "cell_type": "code",
   "execution_count": null,
   "id": "70f5079a-3c1f-4d60-8d2e-de33b932eb21",
   "metadata": {},
   "outputs": [],
   "source": [
    "import numpy as np\n",
    "from sklearn.metrics.pairwise import cosine_similarity\n",
    "from tqdm import tqdm\n",
    "import os\n",
    "\n",
    "def cosine_distance(vector1, vector2):\n",
    "    similarity = cosine_similarity(vector1.reshape(1, -1), vector2.reshape(1, -1))\n",
    "    distance = 1 - similarity[0, 0]\n",
    "    return distance\n",
    "    \n",
    "def euclidean_distance(tensor1, tensor2):\n",
    "    distance = np.linalg.norm(tensor1 - tensor2)\n",
    "    return distance\n",
    "\n",
    "def get_distances(path):\n",
    "    eu_dis, cos_dis, count = 0, 0, 0\n",
    "    \n",
    "    folders = os.listdir(path)\n",
    "    for folder in tqdm(folders):\n",
    "        files = os.listdir(f\"{test_path}/{folder}\")\n",
    "        audio_paths = [f\"{test_path}/{folder}/{ffp}\" for ffp in files]\n",
    "        \n",
    "        audio_embed = model.get_audio_embedding_from_filelist(x = audio_paths)\n",
    "        text_embed = model.get_text_embedding([folder for _ in range(len(files)+1)])\n",
    "    \n",
    "        for i in range(len(files)):\n",
    "            eu_dis += euclidean_distance(audio_embed[i], text_embed[i])\n",
    "            cos_dis += cosine_distance(audio_embed[i], text_embed[i])\n",
    "            count += 1\n",
    "    \n",
    "    print(\"Average Euclidean distance : \", eu_dis/count)\n",
    "    print(\"Average Cosine distance : \", cos_dis/count)"
   ]
  },
  {
   "cell_type": "code",
   "execution_count": null,
   "id": "b25538bd-1c70-475a-aba1-1f3ec6d57e9f",
   "metadata": {},
   "outputs": [],
   "source": [
    "test_path = \"./test_base_38\"\n",
    "get_distances(test_path)\n",
    "\n",
    "test_path = \"./test_total_compare_38\"\n",
    "get_distances(test_path)"
   ]
  },
  {
   "cell_type": "code",
   "execution_count": null,
   "id": "38986657-84e2-44f2-b970-98df0d872cae",
   "metadata": {},
   "outputs": [],
   "source": []
  },
  {
   "cell_type": "code",
   "execution_count": null,
   "id": "67fa2f86-50f1-4704-9339-a50eafb4ba74",
   "metadata": {},
   "outputs": [],
   "source": [
    "# compare 1\n",
    "import os\n",
    "from audiotools import AudioSignal\n",
    "\n",
    "folder_path = \"./test_base_38/\"\n",
    "folders = os.listdir(folder_path)\n",
    "\n",
    "for folder in folders[-7:]:\n",
    "    print(folder)\n",
    "    files = os.listdir(folder_path+folder)\n",
    "    for file in files:\n",
    "        AudioSignal(folder_path+folder+\"/\"+file).widget()"
   ]
  },
  {
   "cell_type": "code",
   "execution_count": null,
   "id": "ed30836b-173c-4edd-8713-3e16e67cdcf0",
   "metadata": {},
   "outputs": [],
   "source": []
  },
  {
   "cell_type": "code",
   "execution_count": null,
   "id": "0e471bba-b698-4d2f-a711-cce4e4a5679f",
   "metadata": {},
   "outputs": [],
   "source": []
  }
 ],
 "metadata": {
  "kernelspec": {
   "display_name": "Python 3 (ipykernel)",
   "language": "python",
   "name": "python3"
  },
  "language_info": {
   "codemirror_mode": {
    "name": "ipython",
    "version": 3
   },
   "file_extension": ".py",
   "mimetype": "text/x-python",
   "name": "python",
   "nbconvert_exporter": "python",
   "pygments_lexer": "ipython3",
   "version": "3.10.12"
  }
 },
 "nbformat": 4,
 "nbformat_minor": 5
}
